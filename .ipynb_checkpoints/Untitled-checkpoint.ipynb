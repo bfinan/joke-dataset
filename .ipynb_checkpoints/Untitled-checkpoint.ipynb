{
 "cells": [
  {
   "cell_type": "code",
   "execution_count": 2,
   "metadata": {
    "collapsed": true
   },
   "outputs": [],
   "source": [
    "from Tkinter import *\n",
    "class App:\n",
    "\n",
    "    def __init__(self, master):\n",
    "\n",
    "        frame = Frame(master)\n",
    "        frame.pack()\n",
    "\n",
    "        self.button = Button(\n",
    "            frame, text=\"QUIT\", fg=\"red\", command=frame.quit\n",
    "            )\n",
    "        self.button.pack(side=LEFT)\n",
    "        \n",
    "        self.joketext=Text(\"hmmm\")\n",
    "        self.joketext.pack(side=LEFT)\n",
    "\n",
    "        self.hi_there = Button(frame, text=\"Hello\", command=self.say_hi)\n",
    "        self.hi_there.pack(side=LEFT)\n",
    "\n",
    "    def say_hi(self):\n",
    "        print \"hi there, everyone!\""
   ]
  },
  {
   "cell_type": "code",
   "execution_count": 4,
   "metadata": {},
   "outputs": [
    {
     "name": "stdout",
     "output_type": "stream",
     "text": [
      "hi there, everyone!\n"
     ]
    }
   ],
   "source": [
    "root = Tk()\n",
    "root.configure(background='black')\n",
    "root.configure()\n",
    "app = App(root)\n",
    "\n",
    "root.mainloop()\n",
    "root.destroy()"
   ]
  },
  {
   "cell_type": "code",
   "execution_count": null,
   "metadata": {
    "collapsed": true
   },
   "outputs": [],
   "source": []
  }
 ],
 "metadata": {
  "kernelspec": {
   "display_name": "Python 2",
   "language": "python",
   "name": "python2"
  },
  "language_info": {
   "codemirror_mode": {
    "name": "ipython",
    "version": 2
   },
   "file_extension": ".py",
   "mimetype": "text/x-python",
   "name": "python",
   "nbconvert_exporter": "python",
   "pygments_lexer": "ipython2",
   "version": "2.7.14"
  }
 },
 "nbformat": 4,
 "nbformat_minor": 2
}
